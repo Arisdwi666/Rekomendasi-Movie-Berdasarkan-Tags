{
 "cells": [
  {
   "cell_type": "markdown",
   "id": "c3f4de67",
   "metadata": {
    "execution": {
     "iopub.execute_input": "2023-06-25T14:41:05.726467Z",
     "iopub.status.busy": "2023-06-25T14:41:05.726104Z",
     "iopub.status.idle": "2023-06-25T14:41:05.732967Z",
     "shell.execute_reply": "2023-06-25T14:41:05.731338Z",
     "shell.execute_reply.started": "2023-06-25T14:41:05.726440Z"
    },
    "papermill": {
     "duration": 0.020213,
     "end_time": "2023-07-14T19:44:10.891228",
     "exception": false,
     "start_time": "2023-07-14T19:44:10.871015",
     "status": "completed"
    },
    "tags": []
   },
   "source": [
    "# Recommendation System"
   ]
  },
  {
   "cell_type": "markdown",
   "id": "9a967fe9",
   "metadata": {
    "execution": {
     "iopub.execute_input": "2023-06-25T15:06:02.128847Z",
     "iopub.status.busy": "2023-06-25T15:06:02.128507Z",
     "iopub.status.idle": "2023-06-25T15:06:02.135036Z",
     "shell.execute_reply": "2023-06-25T15:06:02.133674Z",
     "shell.execute_reply.started": "2023-06-25T15:06:02.128822Z"
    },
    "papermill": {
     "duration": 0.018368,
     "end_time": "2023-07-14T19:44:10.966553",
     "exception": false,
     "start_time": "2023-07-14T19:44:10.948185",
     "status": "completed"
    },
    "tags": []
   },
   "source": [
    "**Kami akan menggunakan sistem rekomendasi berbasis konten untuk masalah berikut**"
   ]
  },
  {
   "cell_type": "code",
   "execution_count": 8,
   "id": "6848bd4d",
   "metadata": {
    "execution": {
     "iopub.execute_input": "2023-07-14T19:44:11.009583Z",
     "iopub.status.busy": "2023-07-14T19:44:11.009051Z",
     "iopub.status.idle": "2023-07-14T19:44:11.024929Z",
     "shell.execute_reply": "2023-07-14T19:44:11.023878Z"
    },
    "papermill": {
     "duration": 0.042569,
     "end_time": "2023-07-14T19:44:11.027682",
     "exception": false,
     "start_time": "2023-07-14T19:44:10.985113",
     "status": "completed"
    },
    "tags": []
   },
   "outputs": [],
   "source": [
    "#importing libraries\n",
    "import pandas as pd\n",
    "import numpy as np"
   ]
  },
  {
   "cell_type": "code",
   "execution_count": 9,
   "id": "e47156c5",
   "metadata": {
    "execution": {
     "iopub.execute_input": "2023-07-14T19:44:11.068828Z",
     "iopub.status.busy": "2023-07-14T19:44:11.068311Z",
     "iopub.status.idle": "2023-07-14T19:44:12.353111Z",
     "shell.execute_reply": "2023-07-14T19:44:12.351852Z"
    },
    "papermill": {
     "duration": 1.30883,
     "end_time": "2023-07-14T19:44:12.355910",
     "exception": false,
     "start_time": "2023-07-14T19:44:11.047080",
     "status": "completed"
    },
    "tags": []
   },
   "outputs": [],
   "source": [
    "import pandas as pd\n",
    "import zipfile\n",
    "import os\n",
    "import shutil\n",
    "\n",
    "# Nama file ZIP\n",
    "zip_file_path_movies = 'tmdb_5000_movies.zip'\n",
    "zip_file_path_credits = 'tmdb_5000_credits.zip'\n",
    "\n",
    "# Ekstrak file ZIP\n",
    "with zipfile.ZipFile(zip_file_path_movies, 'r') as zip_ref:\n",
    "    zip_ref.extractall('temp_folder_movies')\n",
    "\n",
    "with zipfile.ZipFile(zip_file_path_credits, 'r') as zip_ref:\n",
    "    zip_ref.extractall('temp_folder_credits')\n",
    "\n",
    "# Baca file CSV yang mungkin tidak dikompresi langsung dari folder sementara\n",
    "movies_file_path = 'temp_folder_movies/tmdb_5000_movies.csv'\n",
    "credits_file_path = 'temp_folder_credits/tmdb_5000_credits.csv'\n",
    "\n",
    "if os.path.exists(movies_file_path):\n",
    "    movies = pd.read_csv(movies_file_path)\n",
    "else:\n",
    "    movies = pd.read_csv(movies_file_path + '.gz', compression='gzip')\n",
    "\n",
    "if os.path.exists(credits_file_path):\n",
    "    credits = pd.read_csv(credits_file_path)\n",
    "else:\n",
    "    credits = pd.read_csv(credits_file_path + '.gz', compression='gzip')\n",
    "\n",
    "# Hapus folder sementara setelah selesai membaca\n",
    "shutil.rmtree('temp_folder_movies')\n",
    "shutil.rmtree('temp_folder_credits')\n"
   ]
  },
  {
   "cell_type": "code",
   "execution_count": 10,
   "id": "0a842785",
   "metadata": {
    "execution": {
     "iopub.execute_input": "2023-07-14T19:44:12.395684Z",
     "iopub.status.busy": "2023-07-14T19:44:12.395185Z",
     "iopub.status.idle": "2023-07-14T19:44:12.442236Z",
     "shell.execute_reply": "2023-07-14T19:44:12.440818Z"
    },
    "papermill": {
     "duration": 0.070095,
     "end_time": "2023-07-14T19:44:12.444697",
     "exception": false,
     "start_time": "2023-07-14T19:44:12.374602",
     "status": "completed"
    },
    "tags": []
   },
   "outputs": [
    {
     "data": {
      "text/html": [
       "<div>\n",
       "<style scoped>\n",
       "    .dataframe tbody tr th:only-of-type {\n",
       "        vertical-align: middle;\n",
       "    }\n",
       "\n",
       "    .dataframe tbody tr th {\n",
       "        vertical-align: top;\n",
       "    }\n",
       "\n",
       "    .dataframe thead th {\n",
       "        text-align: right;\n",
       "    }\n",
       "</style>\n",
       "<table border=\"1\" class=\"dataframe\">\n",
       "  <thead>\n",
       "    <tr style=\"text-align: right;\">\n",
       "      <th></th>\n",
       "      <th>budget</th>\n",
       "      <th>genres</th>\n",
       "      <th>homepage</th>\n",
       "      <th>id</th>\n",
       "      <th>keywords</th>\n",
       "      <th>original_language</th>\n",
       "      <th>original_title</th>\n",
       "      <th>overview</th>\n",
       "      <th>popularity</th>\n",
       "      <th>production_companies</th>\n",
       "      <th>production_countries</th>\n",
       "      <th>release_date</th>\n",
       "      <th>revenue</th>\n",
       "      <th>runtime</th>\n",
       "      <th>spoken_languages</th>\n",
       "      <th>status</th>\n",
       "      <th>tagline</th>\n",
       "      <th>title</th>\n",
       "      <th>vote_average</th>\n",
       "      <th>vote_count</th>\n",
       "    </tr>\n",
       "  </thead>\n",
       "  <tbody>\n",
       "    <tr>\n",
       "      <th>0</th>\n",
       "      <td>237000000</td>\n",
       "      <td>[{\"id\": 28, \"name\": \"Action\"}, {\"id\": 12, \"nam...</td>\n",
       "      <td>http://www.avatarmovie.com/</td>\n",
       "      <td>19995</td>\n",
       "      <td>[{\"id\": 1463, \"name\": \"culture clash\"}, {\"id\":...</td>\n",
       "      <td>en</td>\n",
       "      <td>Avatar</td>\n",
       "      <td>In the 22nd century, a paraplegic Marine is di...</td>\n",
       "      <td>150.437577</td>\n",
       "      <td>[{\"name\": \"Ingenious Film Partners\", \"id\": 289...</td>\n",
       "      <td>[{\"iso_3166_1\": \"US\", \"name\": \"United States o...</td>\n",
       "      <td>2009-12-10</td>\n",
       "      <td>2787965087</td>\n",
       "      <td>162.0</td>\n",
       "      <td>[{\"iso_639_1\": \"en\", \"name\": \"English\"}, {\"iso...</td>\n",
       "      <td>Released</td>\n",
       "      <td>Enter the World of Pandora.</td>\n",
       "      <td>Avatar</td>\n",
       "      <td>7.2</td>\n",
       "      <td>11800</td>\n",
       "    </tr>\n",
       "    <tr>\n",
       "      <th>1</th>\n",
       "      <td>300000000</td>\n",
       "      <td>[{\"id\": 12, \"name\": \"Adventure\"}, {\"id\": 14, \"...</td>\n",
       "      <td>http://disney.go.com/disneypictures/pirates/</td>\n",
       "      <td>285</td>\n",
       "      <td>[{\"id\": 270, \"name\": \"ocean\"}, {\"id\": 726, \"na...</td>\n",
       "      <td>en</td>\n",
       "      <td>Pirates of the Caribbean: At World's End</td>\n",
       "      <td>Captain Barbossa, long believed to be dead, ha...</td>\n",
       "      <td>139.082615</td>\n",
       "      <td>[{\"name\": \"Walt Disney Pictures\", \"id\": 2}, {\"...</td>\n",
       "      <td>[{\"iso_3166_1\": \"US\", \"name\": \"United States o...</td>\n",
       "      <td>2007-05-19</td>\n",
       "      <td>961000000</td>\n",
       "      <td>169.0</td>\n",
       "      <td>[{\"iso_639_1\": \"en\", \"name\": \"English\"}]</td>\n",
       "      <td>Released</td>\n",
       "      <td>At the end of the world, the adventure begins.</td>\n",
       "      <td>Pirates of the Caribbean: At World's End</td>\n",
       "      <td>6.9</td>\n",
       "      <td>4500</td>\n",
       "    </tr>\n",
       "  </tbody>\n",
       "</table>\n",
       "</div>"
      ],
      "text/plain": [
       "      budget                                             genres  \\\n",
       "0  237000000  [{\"id\": 28, \"name\": \"Action\"}, {\"id\": 12, \"nam...   \n",
       "1  300000000  [{\"id\": 12, \"name\": \"Adventure\"}, {\"id\": 14, \"...   \n",
       "\n",
       "                                       homepage     id  \\\n",
       "0                   http://www.avatarmovie.com/  19995   \n",
       "1  http://disney.go.com/disneypictures/pirates/    285   \n",
       "\n",
       "                                            keywords original_language  \\\n",
       "0  [{\"id\": 1463, \"name\": \"culture clash\"}, {\"id\":...                en   \n",
       "1  [{\"id\": 270, \"name\": \"ocean\"}, {\"id\": 726, \"na...                en   \n",
       "\n",
       "                             original_title  \\\n",
       "0                                    Avatar   \n",
       "1  Pirates of the Caribbean: At World's End   \n",
       "\n",
       "                                            overview  popularity  \\\n",
       "0  In the 22nd century, a paraplegic Marine is di...  150.437577   \n",
       "1  Captain Barbossa, long believed to be dead, ha...  139.082615   \n",
       "\n",
       "                                production_companies  \\\n",
       "0  [{\"name\": \"Ingenious Film Partners\", \"id\": 289...   \n",
       "1  [{\"name\": \"Walt Disney Pictures\", \"id\": 2}, {\"...   \n",
       "\n",
       "                                production_countries release_date     revenue  \\\n",
       "0  [{\"iso_3166_1\": \"US\", \"name\": \"United States o...   2009-12-10  2787965087   \n",
       "1  [{\"iso_3166_1\": \"US\", \"name\": \"United States o...   2007-05-19   961000000   \n",
       "\n",
       "   runtime                                   spoken_languages    status  \\\n",
       "0    162.0  [{\"iso_639_1\": \"en\", \"name\": \"English\"}, {\"iso...  Released   \n",
       "1    169.0           [{\"iso_639_1\": \"en\", \"name\": \"English\"}]  Released   \n",
       "\n",
       "                                          tagline  \\\n",
       "0                     Enter the World of Pandora.   \n",
       "1  At the end of the world, the adventure begins.   \n",
       "\n",
       "                                      title  vote_average  vote_count  \n",
       "0                                    Avatar           7.2       11800  \n",
       "1  Pirates of the Caribbean: At World's End           6.9        4500  "
      ]
     },
     "execution_count": 10,
     "metadata": {},
     "output_type": "execute_result"
    }
   ],
   "source": [
    "movies.head(2)"
   ]
  },
  {
   "cell_type": "code",
   "execution_count": 11,
   "metadata": {},
   "outputs": [
    {
     "data": {
      "text/html": [
       "<div>\n",
       "<style scoped>\n",
       "    .dataframe tbody tr th:only-of-type {\n",
       "        vertical-align: middle;\n",
       "    }\n",
       "\n",
       "    .dataframe tbody tr th {\n",
       "        vertical-align: top;\n",
       "    }\n",
       "\n",
       "    .dataframe thead th {\n",
       "        text-align: right;\n",
       "    }\n",
       "</style>\n",
       "<table border=\"1\" class=\"dataframe\">\n",
       "  <thead>\n",
       "    <tr style=\"text-align: right;\">\n",
       "      <th></th>\n",
       "      <th>movie_id</th>\n",
       "      <th>title</th>\n",
       "      <th>cast</th>\n",
       "      <th>crew</th>\n",
       "    </tr>\n",
       "  </thead>\n",
       "  <tbody>\n",
       "    <tr>\n",
       "      <th>0</th>\n",
       "      <td>19995</td>\n",
       "      <td>Avatar</td>\n",
       "      <td>[{\"cast_id\": 242, \"character\": \"Jake Sully\", \"...</td>\n",
       "      <td>[{\"credit_id\": \"52fe48009251416c750aca23\", \"de...</td>\n",
       "    </tr>\n",
       "    <tr>\n",
       "      <th>1</th>\n",
       "      <td>285</td>\n",
       "      <td>Pirates of the Caribbean: At World's End</td>\n",
       "      <td>[{\"cast_id\": 4, \"character\": \"Captain Jack Spa...</td>\n",
       "      <td>[{\"credit_id\": \"52fe4232c3a36847f800b579\", \"de...</td>\n",
       "    </tr>\n",
       "  </tbody>\n",
       "</table>\n",
       "</div>"
      ],
      "text/plain": [
       "   movie_id                                     title  \\\n",
       "0     19995                                    Avatar   \n",
       "1       285  Pirates of the Caribbean: At World's End   \n",
       "\n",
       "                                                cast  \\\n",
       "0  [{\"cast_id\": 242, \"character\": \"Jake Sully\", \"...   \n",
       "1  [{\"cast_id\": 4, \"character\": \"Captain Jack Spa...   \n",
       "\n",
       "                                                crew  \n",
       "0  [{\"credit_id\": \"52fe48009251416c750aca23\", \"de...  \n",
       "1  [{\"credit_id\": \"52fe4232c3a36847f800b579\", \"de...  "
      ]
     },
     "execution_count": 11,
     "metadata": {},
     "output_type": "execute_result"
    }
   ],
   "source": [
    "credits.head(2)"
   ]
  },
  {
   "cell_type": "code",
   "execution_count": 12,
   "id": "e96e1f8c",
   "metadata": {
    "execution": {
     "iopub.execute_input": "2023-07-14T19:44:12.538509Z",
     "iopub.status.busy": "2023-07-14T19:44:12.537988Z",
     "iopub.status.idle": "2023-07-14T19:44:12.577925Z",
     "shell.execute_reply": "2023-07-14T19:44:12.576757Z"
    },
    "papermill": {
     "duration": 0.063145,
     "end_time": "2023-07-14T19:44:12.580387",
     "exception": false,
     "start_time": "2023-07-14T19:44:12.517242",
     "status": "completed"
    },
    "tags": []
   },
   "outputs": [
    {
     "name": "stdout",
     "output_type": "stream",
     "text": [
      "before merge\n",
      "(4803, 20)\n",
      "(4803, 4)\n",
      "After merge: (4809, 23)\n"
     ]
    }
   ],
   "source": [
    "#Lets merge both the dataset\n",
    "print(\"before merge\")\n",
    "print(movies.shape)\n",
    "print(credits.shape)\n",
    "movies=movies.merge(credits,on='title')\n",
    "print(\"After merge:\",movies.shape)"
   ]
  },
  {
   "cell_type": "code",
   "execution_count": 13,
   "id": "79a42c27",
   "metadata": {
    "execution": {
     "iopub.execute_input": "2023-07-14T19:44:12.622448Z",
     "iopub.status.busy": "2023-07-14T19:44:12.621696Z",
     "iopub.status.idle": "2023-07-14T19:44:12.646779Z",
     "shell.execute_reply": "2023-07-14T19:44:12.645184Z"
    },
    "papermill": {
     "duration": 0.049488,
     "end_time": "2023-07-14T19:44:12.650007",
     "exception": false,
     "start_time": "2023-07-14T19:44:12.600519",
     "status": "completed"
    },
    "tags": []
   },
   "outputs": [
    {
     "data": {
      "text/html": [
       "<div>\n",
       "<style scoped>\n",
       "    .dataframe tbody tr th:only-of-type {\n",
       "        vertical-align: middle;\n",
       "    }\n",
       "\n",
       "    .dataframe tbody tr th {\n",
       "        vertical-align: top;\n",
       "    }\n",
       "\n",
       "    .dataframe thead th {\n",
       "        text-align: right;\n",
       "    }\n",
       "</style>\n",
       "<table border=\"1\" class=\"dataframe\">\n",
       "  <thead>\n",
       "    <tr style=\"text-align: right;\">\n",
       "      <th></th>\n",
       "      <th>budget</th>\n",
       "      <th>genres</th>\n",
       "      <th>homepage</th>\n",
       "      <th>id</th>\n",
       "      <th>keywords</th>\n",
       "      <th>original_language</th>\n",
       "      <th>original_title</th>\n",
       "      <th>overview</th>\n",
       "      <th>popularity</th>\n",
       "      <th>production_companies</th>\n",
       "      <th>...</th>\n",
       "      <th>runtime</th>\n",
       "      <th>spoken_languages</th>\n",
       "      <th>status</th>\n",
       "      <th>tagline</th>\n",
       "      <th>title</th>\n",
       "      <th>vote_average</th>\n",
       "      <th>vote_count</th>\n",
       "      <th>movie_id</th>\n",
       "      <th>cast</th>\n",
       "      <th>crew</th>\n",
       "    </tr>\n",
       "  </thead>\n",
       "  <tbody>\n",
       "    <tr>\n",
       "      <th>0</th>\n",
       "      <td>237000000</td>\n",
       "      <td>[{\"id\": 28, \"name\": \"Action\"}, {\"id\": 12, \"nam...</td>\n",
       "      <td>http://www.avatarmovie.com/</td>\n",
       "      <td>19995</td>\n",
       "      <td>[{\"id\": 1463, \"name\": \"culture clash\"}, {\"id\":...</td>\n",
       "      <td>en</td>\n",
       "      <td>Avatar</td>\n",
       "      <td>In the 22nd century, a paraplegic Marine is di...</td>\n",
       "      <td>150.437577</td>\n",
       "      <td>[{\"name\": \"Ingenious Film Partners\", \"id\": 289...</td>\n",
       "      <td>...</td>\n",
       "      <td>162.0</td>\n",
       "      <td>[{\"iso_639_1\": \"en\", \"name\": \"English\"}, {\"iso...</td>\n",
       "      <td>Released</td>\n",
       "      <td>Enter the World of Pandora.</td>\n",
       "      <td>Avatar</td>\n",
       "      <td>7.2</td>\n",
       "      <td>11800</td>\n",
       "      <td>19995</td>\n",
       "      <td>[{\"cast_id\": 242, \"character\": \"Jake Sully\", \"...</td>\n",
       "      <td>[{\"credit_id\": \"52fe48009251416c750aca23\", \"de...</td>\n",
       "    </tr>\n",
       "  </tbody>\n",
       "</table>\n",
       "<p>1 rows × 23 columns</p>\n",
       "</div>"
      ],
      "text/plain": [
       "      budget                                             genres  \\\n",
       "0  237000000  [{\"id\": 28, \"name\": \"Action\"}, {\"id\": 12, \"nam...   \n",
       "\n",
       "                      homepage     id  \\\n",
       "0  http://www.avatarmovie.com/  19995   \n",
       "\n",
       "                                            keywords original_language  \\\n",
       "0  [{\"id\": 1463, \"name\": \"culture clash\"}, {\"id\":...                en   \n",
       "\n",
       "  original_title                                           overview  \\\n",
       "0         Avatar  In the 22nd century, a paraplegic Marine is di...   \n",
       "\n",
       "   popularity                               production_companies  ... runtime  \\\n",
       "0  150.437577  [{\"name\": \"Ingenious Film Partners\", \"id\": 289...  ...   162.0   \n",
       "\n",
       "                                    spoken_languages    status  \\\n",
       "0  [{\"iso_639_1\": \"en\", \"name\": \"English\"}, {\"iso...  Released   \n",
       "\n",
       "                       tagline   title vote_average vote_count movie_id  \\\n",
       "0  Enter the World of Pandora.  Avatar          7.2      11800    19995   \n",
       "\n",
       "                                                cast  \\\n",
       "0  [{\"cast_id\": 242, \"character\": \"Jake Sully\", \"...   \n",
       "\n",
       "                                                crew  \n",
       "0  [{\"credit_id\": \"52fe48009251416c750aca23\", \"de...  \n",
       "\n",
       "[1 rows x 23 columns]"
      ]
     },
     "execution_count": 13,
     "metadata": {},
     "output_type": "execute_result"
    }
   ],
   "source": [
    "movies.head(1)"
   ]
  },
  {
   "cell_type": "code",
   "execution_count": 14,
   "id": "8058169f",
   "metadata": {
    "execution": {
     "iopub.execute_input": "2023-07-14T19:44:12.694095Z",
     "iopub.status.busy": "2023-07-14T19:44:12.693678Z",
     "iopub.status.idle": "2023-07-14T19:44:12.701279Z",
     "shell.execute_reply": "2023-07-14T19:44:12.700351Z"
    },
    "papermill": {
     "duration": 0.032228,
     "end_time": "2023-07-14T19:44:12.703588",
     "exception": false,
     "start_time": "2023-07-14T19:44:12.671360",
     "status": "completed"
    },
    "tags": []
   },
   "outputs": [
    {
     "data": {
      "text/plain": [
       "Index(['budget', 'genres', 'homepage', 'id', 'keywords', 'original_language',\n",
       "       'original_title', 'overview', 'popularity', 'production_companies',\n",
       "       'production_countries', 'release_date', 'revenue', 'runtime',\n",
       "       'spoken_languages', 'status', 'tagline', 'title', 'vote_average',\n",
       "       'vote_count', 'movie_id', 'cast', 'crew'],\n",
       "      dtype='object')"
      ]
     },
     "execution_count": 14,
     "metadata": {},
     "output_type": "execute_result"
    }
   ],
   "source": [
    "#checking columns\n",
    "movies.columns"
   ]
  },
  {
   "cell_type": "markdown",
   "id": "61726313",
   "metadata": {
    "execution": {
     "iopub.execute_input": "2023-06-25T15:53:47.526446Z",
     "iopub.status.busy": "2023-06-25T15:53:47.526087Z",
     "iopub.status.idle": "2023-06-25T15:53:47.533033Z",
     "shell.execute_reply": "2023-06-25T15:53:47.531964Z",
     "shell.execute_reply.started": "2023-06-25T15:53:47.526419Z"
    },
    "papermill": {
     "duration": 0.019477,
     "end_time": "2023-07-14T19:44:12.743404",
     "exception": false,
     "start_time": "2023-07-14T19:44:12.723927",
     "status": "completed"
    },
    "tags": []
   },
   "source": [
    "Mari kita hapus kolom-kolom yang tidak diperlukan yang mungkin tidak berguna untuk analisis kita<br>\n",
    "1.budget<br>\n",
    "2.homepage<br>\n",
    "3.original_language (95% of the languages are english movies,so we going to this column as well)<br>\n",
    "4.popularity<br>\n",
    "5.production_companies<br>\n",
    "6.production_countries<br>\n",
    "7.release_date<br>\n",
    "8.revenue<br>\n",
    "9.runtime<br>\n",
    "10.spoken_languages<br>\n",
    "11.status<br>\n",
    "12.tagline<br>\n",
    "13.vote_count<br>\n",
    "14.vote_average<br>\n",
    "15.id<br>"
   ]
  },
  {
   "cell_type": "code",
   "execution_count": 15,
   "id": "44a257a6",
   "metadata": {
    "execution": {
     "iopub.execute_input": "2023-07-14T19:44:12.785948Z",
     "iopub.status.busy": "2023-07-14T19:44:12.785138Z",
     "iopub.status.idle": "2023-07-14T19:44:12.798285Z",
     "shell.execute_reply": "2023-07-14T19:44:12.796840Z"
    },
    "papermill": {
     "duration": 0.03759,
     "end_time": "2023-07-14T19:44:12.801131",
     "exception": false,
     "start_time": "2023-07-14T19:44:12.763541",
     "status": "completed"
    },
    "tags": []
   },
   "outputs": [],
   "source": [
    "# selecting only required columns\n",
    "movies = movies[['movie_id','title','overview','genres','keywords','cast','crew']]"
   ]
  },
  {
   "cell_type": "code",
   "execution_count": 16,
   "id": "a643905b",
   "metadata": {
    "execution": {
     "iopub.execute_input": "2023-07-14T19:44:12.844213Z",
     "iopub.status.busy": "2023-07-14T19:44:12.843738Z",
     "iopub.status.idle": "2023-07-14T19:44:12.866964Z",
     "shell.execute_reply": "2023-07-14T19:44:12.865987Z"
    },
    "papermill": {
     "duration": 0.048075,
     "end_time": "2023-07-14T19:44:12.869160",
     "exception": false,
     "start_time": "2023-07-14T19:44:12.821085",
     "status": "completed"
    },
    "tags": []
   },
   "outputs": [
    {
     "data": {
      "text/plain": [
       "movie_id    0\n",
       "title       0\n",
       "overview    3\n",
       "genres      0\n",
       "keywords    0\n",
       "cast        0\n",
       "crew        0\n",
       "dtype: int64"
      ]
     },
     "execution_count": 16,
     "metadata": {},
     "output_type": "execute_result"
    }
   ],
   "source": [
    "#Checking null values\n",
    "movies.isnull().sum()"
   ]
  },
  {
   "cell_type": "code",
   "execution_count": 17,
   "id": "f5c7bd7e",
   "metadata": {
    "execution": {
     "iopub.execute_input": "2023-07-14T19:44:12.911738Z",
     "iopub.status.busy": "2023-07-14T19:44:12.911045Z",
     "iopub.status.idle": "2023-07-14T19:44:12.950247Z",
     "shell.execute_reply": "2023-07-14T19:44:12.949023Z"
    },
    "papermill": {
     "duration": 0.063683,
     "end_time": "2023-07-14T19:44:12.952711",
     "exception": false,
     "start_time": "2023-07-14T19:44:12.889028",
     "status": "completed"
    },
    "tags": []
   },
   "outputs": [
    {
     "data": {
      "text/plain": [
       "movie_id    0\n",
       "title       0\n",
       "overview    0\n",
       "genres      0\n",
       "keywords    0\n",
       "cast        0\n",
       "crew        0\n",
       "dtype: int64"
      ]
     },
     "execution_count": 17,
     "metadata": {},
     "output_type": "execute_result"
    }
   ],
   "source": [
    "#dropping null values\n",
    "movies.dropna(inplace=True)\n",
    "movies.isnull().sum()\n"
   ]
  },
  {
   "cell_type": "code",
   "execution_count": 18,
   "id": "d7b3d027",
   "metadata": {
    "execution": {
     "iopub.execute_input": "2023-07-14T19:44:12.995589Z",
     "iopub.status.busy": "2023-07-14T19:44:12.995068Z",
     "iopub.status.idle": "2023-07-14T19:44:13.115116Z",
     "shell.execute_reply": "2023-07-14T19:44:13.113928Z"
    },
    "papermill": {
     "duration": 0.144683,
     "end_time": "2023-07-14T19:44:13.117797",
     "exception": false,
     "start_time": "2023-07-14T19:44:12.973114",
     "status": "completed"
    },
    "tags": []
   },
   "outputs": [
    {
     "data": {
      "text/plain": [
       "0"
      ]
     },
     "execution_count": 18,
     "metadata": {},
     "output_type": "execute_result"
    }
   ],
   "source": [
    "#checking duplicated rows\n",
    "movies.duplicated().sum()"
   ]
  },
  {
   "cell_type": "code",
   "execution_count": 19,
   "id": "6e05e6a4",
   "metadata": {
    "execution": {
     "iopub.execute_input": "2023-07-14T19:44:13.160953Z",
     "iopub.status.busy": "2023-07-14T19:44:13.160441Z",
     "iopub.status.idle": "2023-07-14T19:44:13.177988Z",
     "shell.execute_reply": "2023-07-14T19:44:13.176537Z"
    },
    "papermill": {
     "duration": 0.041999,
     "end_time": "2023-07-14T19:44:13.180426",
     "exception": false,
     "start_time": "2023-07-14T19:44:13.138427",
     "status": "completed"
    },
    "tags": []
   },
   "outputs": [
    {
     "data": {
      "text/html": [
       "<div>\n",
       "<style scoped>\n",
       "    .dataframe tbody tr th:only-of-type {\n",
       "        vertical-align: middle;\n",
       "    }\n",
       "\n",
       "    .dataframe tbody tr th {\n",
       "        vertical-align: top;\n",
       "    }\n",
       "\n",
       "    .dataframe thead th {\n",
       "        text-align: right;\n",
       "    }\n",
       "</style>\n",
       "<table border=\"1\" class=\"dataframe\">\n",
       "  <thead>\n",
       "    <tr style=\"text-align: right;\">\n",
       "      <th></th>\n",
       "      <th>movie_id</th>\n",
       "      <th>title</th>\n",
       "      <th>overview</th>\n",
       "      <th>genres</th>\n",
       "      <th>keywords</th>\n",
       "      <th>cast</th>\n",
       "      <th>crew</th>\n",
       "    </tr>\n",
       "  </thead>\n",
       "  <tbody>\n",
       "    <tr>\n",
       "      <th>0</th>\n",
       "      <td>19995</td>\n",
       "      <td>Avatar</td>\n",
       "      <td>In the 22nd century, a paraplegic Marine is di...</td>\n",
       "      <td>[{\"id\": 28, \"name\": \"Action\"}, {\"id\": 12, \"nam...</td>\n",
       "      <td>[{\"id\": 1463, \"name\": \"culture clash\"}, {\"id\":...</td>\n",
       "      <td>[{\"cast_id\": 242, \"character\": \"Jake Sully\", \"...</td>\n",
       "      <td>[{\"credit_id\": \"52fe48009251416c750aca23\", \"de...</td>\n",
       "    </tr>\n",
       "    <tr>\n",
       "      <th>1</th>\n",
       "      <td>285</td>\n",
       "      <td>Pirates of the Caribbean: At World's End</td>\n",
       "      <td>Captain Barbossa, long believed to be dead, ha...</td>\n",
       "      <td>[{\"id\": 12, \"name\": \"Adventure\"}, {\"id\": 14, \"...</td>\n",
       "      <td>[{\"id\": 270, \"name\": \"ocean\"}, {\"id\": 726, \"na...</td>\n",
       "      <td>[{\"cast_id\": 4, \"character\": \"Captain Jack Spa...</td>\n",
       "      <td>[{\"credit_id\": \"52fe4232c3a36847f800b579\", \"de...</td>\n",
       "    </tr>\n",
       "  </tbody>\n",
       "</table>\n",
       "</div>"
      ],
      "text/plain": [
       "   movie_id                                     title  \\\n",
       "0     19995                                    Avatar   \n",
       "1       285  Pirates of the Caribbean: At World's End   \n",
       "\n",
       "                                            overview  \\\n",
       "0  In the 22nd century, a paraplegic Marine is di...   \n",
       "1  Captain Barbossa, long believed to be dead, ha...   \n",
       "\n",
       "                                              genres  \\\n",
       "0  [{\"id\": 28, \"name\": \"Action\"}, {\"id\": 12, \"nam...   \n",
       "1  [{\"id\": 12, \"name\": \"Adventure\"}, {\"id\": 14, \"...   \n",
       "\n",
       "                                            keywords  \\\n",
       "0  [{\"id\": 1463, \"name\": \"culture clash\"}, {\"id\":...   \n",
       "1  [{\"id\": 270, \"name\": \"ocean\"}, {\"id\": 726, \"na...   \n",
       "\n",
       "                                                cast  \\\n",
       "0  [{\"cast_id\": 242, \"character\": \"Jake Sully\", \"...   \n",
       "1  [{\"cast_id\": 4, \"character\": \"Captain Jack Spa...   \n",
       "\n",
       "                                                crew  \n",
       "0  [{\"credit_id\": \"52fe48009251416c750aca23\", \"de...  \n",
       "1  [{\"credit_id\": \"52fe4232c3a36847f800b579\", \"de...  "
      ]
     },
     "execution_count": 19,
     "metadata": {},
     "output_type": "execute_result"
    }
   ],
   "source": [
    "movies.head(2)"
   ]
  },
  {
   "cell_type": "markdown",
   "id": "f711feb6",
   "metadata": {
    "execution": {
     "iopub.execute_input": "2023-06-25T16:36:32.000413Z",
     "iopub.status.busy": "2023-06-25T16:36:32.000012Z",
     "iopub.status.idle": "2023-06-25T16:36:32.005302Z",
     "shell.execute_reply": "2023-06-25T16:36:32.004290Z",
     "shell.execute_reply.started": "2023-06-25T16:36:32.000382Z"
    },
    "papermill": {
     "duration": 0.020343,
     "end_time": "2023-07-14T19:44:13.221959",
     "exception": false,
     "start_time": "2023-07-14T19:44:13.201616",
     "status": "completed"
    },
    "tags": []
   },
   "source": [
    "# Approaching the problem **tags** way"
   ]
  },
  {
   "cell_type": "markdown",
   "id": "3c6e41f5",
   "metadata": {
    "papermill": {
     "duration": 0.021003,
     "end_time": "2023-07-14T19:44:13.263498",
     "exception": false,
     "start_time": "2023-07-14T19:44:13.242495",
     "status": "completed"
    },
    "tags": []
   },
   "source": [
    "Tag sangat penting dalam rekomendasi berbasis konten karena tag memberikan informasi yang berguna tentang film dengan cara yang ringkas dan terorganisir.\n",
    "\n",
    "Bayangkan Anda sedang berada di perpustakaan dan mencari buku yang bagus untuk dibaca. Alih-alih menelusuri setiap buku, Anda menemukan bahwa setiap buku memiliki tag yang melekat padanya. Tag ini mewakili genre, tema, atau gaya buku yang berbeda, seperti \"misteri\", \"roman\", \"petualangan\", atau \"sejarah\". Tag ini membantu Anda dengan cepat mengidentifikasi jenis buku yang Anda minati.\n",
    "\n",
    "Secara sederhana, tag membantu sistem rekomendasi memahami jenis film yang Anda sukai. Tag menyediakan cara untuk mengkategorikan film berdasarkan genre, tema, atau atribut tertentu. Dengan menganalisis tag yang terkait dengan film yang Anda sukai, sistem dapat menyarankan film lain dengan tag yang serupa, sehingga memudahkan Anda menemukan film yang sesuai dengan minat Anda.\n"
   ]
  },
  {
   "cell_type": "markdown",
   "id": "0f3f6a8a",
   "metadata": {
    "execution": {
     "iopub.execute_input": "2023-06-26T10:20:00.491052Z",
     "iopub.status.busy": "2023-06-26T10:20:00.489860Z",
     "iopub.status.idle": "2023-06-26T10:20:00.501423Z",
     "shell.execute_reply": "2023-06-26T10:20:00.499105Z",
     "shell.execute_reply.started": "2023-06-26T10:20:00.490993Z"
    },
    "papermill": {
     "duration": 0.021175,
     "end_time": "2023-07-14T19:44:13.306177",
     "exception": false,
     "start_time": "2023-07-14T19:44:13.285002",
     "status": "completed"
    },
    "tags": []
   },
   "source": [
    "**Kami menggunakan tag untuk merekomendasikan film kepada pengguna**<br>\n",
    "\n",
    "kami mengambil tag dengan kombinasi kolom di bawah ini<br>\n",
    "\n",
    "tags=overview+ genres + keywords + cast + crew"
   ]
  },
  {
   "cell_type": "markdown",
   "id": "3af2dc60",
   "metadata": {
    "papermill": {
     "duration": 0.020251,
     "end_time": "2023-07-14T19:44:13.347016",
     "exception": false,
     "start_time": "2023-07-14T19:44:13.326765",
     "status": "completed"
    },
    "tags": []
   },
   "source": [
    "untuk mencapai tujuan di atas, kita membutuhkan kolom-kolom dalam format yang tepat"
   ]
  },
  {
   "cell_type": "markdown",
   "id": "6c2fdbd0",
   "metadata": {
    "execution": {
     "iopub.execute_input": "2023-06-26T10:24:19.458339Z",
     "iopub.status.busy": "2023-06-26T10:24:19.457876Z",
     "iopub.status.idle": "2023-06-26T10:24:19.466403Z",
     "shell.execute_reply": "2023-06-26T10:24:19.464674Z",
     "shell.execute_reply.started": "2023-06-26T10:24:19.458303Z"
    },
    "papermill": {
     "duration": 0.020165,
     "end_time": "2023-07-14T19:44:13.387883",
     "exception": false,
     "start_time": "2023-07-14T19:44:13.367718",
     "status": "completed"
    },
    "tags": []
   },
   "source": [
    "**genres column**"
   ]
  },
  {
   "cell_type": "code",
   "execution_count": 20,
   "id": "39862d38",
   "metadata": {
    "execution": {
     "iopub.execute_input": "2023-07-14T19:44:13.431627Z",
     "iopub.status.busy": "2023-07-14T19:44:13.431175Z",
     "iopub.status.idle": "2023-07-14T19:44:13.439080Z",
     "shell.execute_reply": "2023-07-14T19:44:13.437716Z"
    },
    "papermill": {
     "duration": 0.03282,
     "end_time": "2023-07-14T19:44:13.441440",
     "exception": false,
     "start_time": "2023-07-14T19:44:13.408620",
     "status": "completed"
    },
    "tags": []
   },
   "outputs": [
    {
     "data": {
      "text/plain": [
       "'[{\"id\": 28, \"name\": \"Action\"}, {\"id\": 12, \"name\": \"Adventure\"}, {\"id\": 14, \"name\": \"Fantasy\"}, {\"id\": 878, \"name\": \"Science Fiction\"}]'"
      ]
     },
     "execution_count": 20,
     "metadata": {},
     "output_type": "execute_result"
    }
   ],
   "source": [
    "movies.iloc[0]['genres']"
   ]
  },
  {
   "cell_type": "markdown",
   "id": "091d00f2",
   "metadata": {
    "papermill": {
     "duration": 0.020198,
     "end_time": "2023-07-14T19:44:13.482993",
     "exception": false,
     "start_time": "2023-07-14T19:44:13.462795",
     "status": "completed"
    },
    "tags": []
   },
   "source": [
    "seperti yang bisa kita lihat format kolom genre berbeda, kita perlu mengekstrak semua genre dari kamus dan menyimpannya di kolom yang berbeda"
   ]
  },
  {
   "cell_type": "code",
   "execution_count": 21,
   "id": "857feae0",
   "metadata": {
    "execution": {
     "iopub.execute_input": "2023-07-14T19:44:13.527603Z",
     "iopub.status.busy": "2023-07-14T19:44:13.527086Z",
     "iopub.status.idle": "2023-07-14T19:44:13.738761Z",
     "shell.execute_reply": "2023-07-14T19:44:13.737480Z"
    },
    "papermill": {
     "duration": 0.237101,
     "end_time": "2023-07-14T19:44:13.741711",
     "exception": false,
     "start_time": "2023-07-14T19:44:13.504610",
     "status": "completed"
    },
    "tags": []
   },
   "outputs": [],
   "source": [
    "# convert a column of genre representations in a DataFrame into a more usable format by extracting and storing only the genre names.\n",
    "\n",
    "import ast\n",
    "# Define a function to extract genre names from a string representation of genres\n",
    "def convert(text):\n",
    "    genres = []  # Initialize an empty list to store genre names\n",
    "    for i in ast.literal_eval(text):  # Convert the string into a list of dictionaries using safe evaluation\n",
    "        genres.append(i['name'])  # Retrieve the name of each genre dictionary and add it to the list\n",
    "    return genres  # Return the list of genre names\n",
    "\n",
    "# Apply the 'convert' function to the 'genres' column of the 'movies' DataFrame\n",
    "movies['genres'] =  movies['genres'].apply(convert)\n"
   ]
  },
  {
   "cell_type": "code",
   "execution_count": 22,
   "id": "e5c99521",
   "metadata": {
    "execution": {
     "iopub.execute_input": "2023-07-14T19:44:13.785874Z",
     "iopub.status.busy": "2023-07-14T19:44:13.785382Z",
     "iopub.status.idle": "2023-07-14T19:44:13.801763Z",
     "shell.execute_reply": "2023-07-14T19:44:13.800352Z"
    },
    "papermill": {
     "duration": 0.041352,
     "end_time": "2023-07-14T19:44:13.804097",
     "exception": false,
     "start_time": "2023-07-14T19:44:13.762745",
     "status": "completed"
    },
    "tags": []
   },
   "outputs": [
    {
     "data": {
      "text/html": [
       "<div>\n",
       "<style scoped>\n",
       "    .dataframe tbody tr th:only-of-type {\n",
       "        vertical-align: middle;\n",
       "    }\n",
       "\n",
       "    .dataframe tbody tr th {\n",
       "        vertical-align: top;\n",
       "    }\n",
       "\n",
       "    .dataframe thead th {\n",
       "        text-align: right;\n",
       "    }\n",
       "</style>\n",
       "<table border=\"1\" class=\"dataframe\">\n",
       "  <thead>\n",
       "    <tr style=\"text-align: right;\">\n",
       "      <th></th>\n",
       "      <th>movie_id</th>\n",
       "      <th>title</th>\n",
       "      <th>overview</th>\n",
       "      <th>genres</th>\n",
       "      <th>keywords</th>\n",
       "      <th>cast</th>\n",
       "      <th>crew</th>\n",
       "    </tr>\n",
       "  </thead>\n",
       "  <tbody>\n",
       "    <tr>\n",
       "      <th>0</th>\n",
       "      <td>19995</td>\n",
       "      <td>Avatar</td>\n",
       "      <td>In the 22nd century, a paraplegic Marine is di...</td>\n",
       "      <td>[Action, Adventure, Fantasy, Science Fiction]</td>\n",
       "      <td>[{\"id\": 1463, \"name\": \"culture clash\"}, {\"id\":...</td>\n",
       "      <td>[{\"cast_id\": 242, \"character\": \"Jake Sully\", \"...</td>\n",
       "      <td>[{\"credit_id\": \"52fe48009251416c750aca23\", \"de...</td>\n",
       "    </tr>\n",
       "    <tr>\n",
       "      <th>1</th>\n",
       "      <td>285</td>\n",
       "      <td>Pirates of the Caribbean: At World's End</td>\n",
       "      <td>Captain Barbossa, long believed to be dead, ha...</td>\n",
       "      <td>[Adventure, Fantasy, Action]</td>\n",
       "      <td>[{\"id\": 270, \"name\": \"ocean\"}, {\"id\": 726, \"na...</td>\n",
       "      <td>[{\"cast_id\": 4, \"character\": \"Captain Jack Spa...</td>\n",
       "      <td>[{\"credit_id\": \"52fe4232c3a36847f800b579\", \"de...</td>\n",
       "    </tr>\n",
       "  </tbody>\n",
       "</table>\n",
       "</div>"
      ],
      "text/plain": [
       "   movie_id                                     title  \\\n",
       "0     19995                                    Avatar   \n",
       "1       285  Pirates of the Caribbean: At World's End   \n",
       "\n",
       "                                            overview  \\\n",
       "0  In the 22nd century, a paraplegic Marine is di...   \n",
       "1  Captain Barbossa, long believed to be dead, ha...   \n",
       "\n",
       "                                          genres  \\\n",
       "0  [Action, Adventure, Fantasy, Science Fiction]   \n",
       "1                   [Adventure, Fantasy, Action]   \n",
       "\n",
       "                                            keywords  \\\n",
       "0  [{\"id\": 1463, \"name\": \"culture clash\"}, {\"id\":...   \n",
       "1  [{\"id\": 270, \"name\": \"ocean\"}, {\"id\": 726, \"na...   \n",
       "\n",
       "                                                cast  \\\n",
       "0  [{\"cast_id\": 242, \"character\": \"Jake Sully\", \"...   \n",
       "1  [{\"cast_id\": 4, \"character\": \"Captain Jack Spa...   \n",
       "\n",
       "                                                crew  \n",
       "0  [{\"credit_id\": \"52fe48009251416c750aca23\", \"de...  \n",
       "1  [{\"credit_id\": \"52fe4232c3a36847f800b579\", \"de...  "
      ]
     },
     "execution_count": 22,
     "metadata": {},
     "output_type": "execute_result"
    }
   ],
   "source": [
    "movies.head(2)"
   ]
  },
  {
   "cell_type": "markdown",
   "id": "8c9493cc",
   "metadata": {
    "papermill": {
     "duration": 0.022739,
     "end_time": "2023-07-14T19:44:13.848832",
     "exception": false,
     "start_time": "2023-07-14T19:44:13.826093",
     "status": "completed"
    },
    "tags": []
   },
   "source": [
    "Kami mendapatkan genre dalam format yang diinginkan, Mari kita lakukan hal yang sama untuk kolom lainnya"
   ]
  },
  {
   "cell_type": "markdown",
   "id": "ff46fd85",
   "metadata": {
    "papermill": {
     "duration": 0.020526,
     "end_time": "2023-07-14T19:44:13.890712",
     "exception": false,
     "start_time": "2023-07-14T19:44:13.870186",
     "status": "completed"
    },
    "tags": []
   },
   "source": [
    "**keywords column**"
   ]
  },
  {
   "cell_type": "markdown",
   "id": "3c9c3a58",
   "metadata": {
    "papermill": {
     "duration": 0.021171,
     "end_time": "2023-07-14T19:44:13.932710",
     "exception": false,
     "start_time": "2023-07-14T19:44:13.911539",
     "status": "completed"
    },
    "tags": []
   },
   "source": [
    "format kata kunci mirip dengan format genre, kita akan menggunakan fungsi yang sama dengan yang telah kita gunakan untuk genre"
   ]
  },
  {
   "cell_type": "code",
   "execution_count": 23,
   "id": "6b1f4d16",
   "metadata": {
    "execution": {
     "iopub.execute_input": "2023-07-14T19:44:13.977149Z",
     "iopub.status.busy": "2023-07-14T19:44:13.976653Z",
     "iopub.status.idle": "2023-07-14T19:44:14.506433Z",
     "shell.execute_reply": "2023-07-14T19:44:14.505078Z"
    },
    "papermill": {
     "duration": 0.555274,
     "end_time": "2023-07-14T19:44:14.509234",
     "exception": false,
     "start_time": "2023-07-14T19:44:13.953960",
     "status": "completed"
    },
    "tags": []
   },
   "outputs": [],
   "source": [
    "# Apply the 'convert' function to the 'keywords' column of the 'movies' DataFrame\n",
    "movies['keywords'] =  movies['keywords'].apply(convert)"
   ]
  },
  {
   "cell_type": "code",
   "execution_count": 24,
   "id": "9be6ccb5",
   "metadata": {
    "execution": {
     "iopub.execute_input": "2023-07-14T19:44:14.553930Z",
     "iopub.status.busy": "2023-07-14T19:44:14.553550Z",
     "iopub.status.idle": "2023-07-14T19:44:14.570766Z",
     "shell.execute_reply": "2023-07-14T19:44:14.569628Z"
    },
    "papermill": {
     "duration": 0.04285,
     "end_time": "2023-07-14T19:44:14.573173",
     "exception": false,
     "start_time": "2023-07-14T19:44:14.530323",
     "status": "completed"
    },
    "tags": []
   },
   "outputs": [
    {
     "data": {
      "text/html": [
       "<div>\n",
       "<style scoped>\n",
       "    .dataframe tbody tr th:only-of-type {\n",
       "        vertical-align: middle;\n",
       "    }\n",
       "\n",
       "    .dataframe tbody tr th {\n",
       "        vertical-align: top;\n",
       "    }\n",
       "\n",
       "    .dataframe thead th {\n",
       "        text-align: right;\n",
       "    }\n",
       "</style>\n",
       "<table border=\"1\" class=\"dataframe\">\n",
       "  <thead>\n",
       "    <tr style=\"text-align: right;\">\n",
       "      <th></th>\n",
       "      <th>movie_id</th>\n",
       "      <th>title</th>\n",
       "      <th>overview</th>\n",
       "      <th>genres</th>\n",
       "      <th>keywords</th>\n",
       "      <th>cast</th>\n",
       "      <th>crew</th>\n",
       "    </tr>\n",
       "  </thead>\n",
       "  <tbody>\n",
       "    <tr>\n",
       "      <th>0</th>\n",
       "      <td>19995</td>\n",
       "      <td>Avatar</td>\n",
       "      <td>In the 22nd century, a paraplegic Marine is di...</td>\n",
       "      <td>[Action, Adventure, Fantasy, Science Fiction]</td>\n",
       "      <td>[culture clash, future, space war, space colon...</td>\n",
       "      <td>[{\"cast_id\": 242, \"character\": \"Jake Sully\", \"...</td>\n",
       "      <td>[{\"credit_id\": \"52fe48009251416c750aca23\", \"de...</td>\n",
       "    </tr>\n",
       "    <tr>\n",
       "      <th>1</th>\n",
       "      <td>285</td>\n",
       "      <td>Pirates of the Caribbean: At World's End</td>\n",
       "      <td>Captain Barbossa, long believed to be dead, ha...</td>\n",
       "      <td>[Adventure, Fantasy, Action]</td>\n",
       "      <td>[ocean, drug abuse, exotic island, east india ...</td>\n",
       "      <td>[{\"cast_id\": 4, \"character\": \"Captain Jack Spa...</td>\n",
       "      <td>[{\"credit_id\": \"52fe4232c3a36847f800b579\", \"de...</td>\n",
       "    </tr>\n",
       "  </tbody>\n",
       "</table>\n",
       "</div>"
      ],
      "text/plain": [
       "   movie_id                                     title  \\\n",
       "0     19995                                    Avatar   \n",
       "1       285  Pirates of the Caribbean: At World's End   \n",
       "\n",
       "                                            overview  \\\n",
       "0  In the 22nd century, a paraplegic Marine is di...   \n",
       "1  Captain Barbossa, long believed to be dead, ha...   \n",
       "\n",
       "                                          genres  \\\n",
       "0  [Action, Adventure, Fantasy, Science Fiction]   \n",
       "1                   [Adventure, Fantasy, Action]   \n",
       "\n",
       "                                            keywords  \\\n",
       "0  [culture clash, future, space war, space colon...   \n",
       "1  [ocean, drug abuse, exotic island, east india ...   \n",
       "\n",
       "                                                cast  \\\n",
       "0  [{\"cast_id\": 242, \"character\": \"Jake Sully\", \"...   \n",
       "1  [{\"cast_id\": 4, \"character\": \"Captain Jack Spa...   \n",
       "\n",
       "                                                crew  \n",
       "0  [{\"credit_id\": \"52fe48009251416c750aca23\", \"de...  \n",
       "1  [{\"credit_id\": \"52fe4232c3a36847f800b579\", \"de...  "
      ]
     },
     "execution_count": 24,
     "metadata": {},
     "output_type": "execute_result"
    }
   ],
   "source": [
    "movies.head(2)"
   ]
  },
  {
   "cell_type": "markdown",
   "id": "592c4660",
   "metadata": {
    "execution": {
     "iopub.execute_input": "2023-06-26T11:49:03.672515Z",
     "iopub.status.busy": "2023-06-26T11:49:03.671981Z",
     "iopub.status.idle": "2023-06-26T11:49:03.681572Z",
     "shell.execute_reply": "2023-06-26T11:49:03.679015Z",
     "shell.execute_reply.started": "2023-06-26T11:49:03.672475Z"
    },
    "papermill": {
     "duration": 0.020823,
     "end_time": "2023-07-14T19:44:14.615355",
     "exception": false,
     "start_time": "2023-07-14T19:44:14.594532",
     "status": "completed"
    },
    "tags": []
   },
   "source": [
    "**cast column**"
   ]
  },
  {
   "cell_type": "markdown",
   "id": "226ddbe3",
   "metadata": {
    "papermill": {
     "duration": 0.023555,
     "end_time": "2023-07-14T19:44:14.660546",
     "exception": false,
     "start_time": "2023-07-14T19:44:14.636991",
     "status": "completed"
    },
    "tags": []
   },
   "source": [
    "dari kolom cast, kami hanya mengambil 3 nama aktor teratas (nama aktor yang sebenarnya) untuk film yang bersangkutan"
   ]
  },
  {
   "cell_type": "code",
   "execution_count": 25,
   "id": "0344ed60",
   "metadata": {
    "execution": {
     "iopub.execute_input": "2023-07-14T19:44:14.706905Z",
     "iopub.status.busy": "2023-07-14T19:44:14.706515Z",
     "iopub.status.idle": "2023-07-14T19:44:18.972254Z",
     "shell.execute_reply": "2023-07-14T19:44:18.970552Z"
    },
    "papermill": {
     "duration": 4.291991,
     "end_time": "2023-07-14T19:44:18.974927",
     "exception": false,
     "start_time": "2023-07-14T19:44:14.682936",
     "status": "completed"
    },
    "tags": []
   },
   "outputs": [
    {
     "data": {
      "text/html": [
       "<div>\n",
       "<style scoped>\n",
       "    .dataframe tbody tr th:only-of-type {\n",
       "        vertical-align: middle;\n",
       "    }\n",
       "\n",
       "    .dataframe tbody tr th {\n",
       "        vertical-align: top;\n",
       "    }\n",
       "\n",
       "    .dataframe thead th {\n",
       "        text-align: right;\n",
       "    }\n",
       "</style>\n",
       "<table border=\"1\" class=\"dataframe\">\n",
       "  <thead>\n",
       "    <tr style=\"text-align: right;\">\n",
       "      <th></th>\n",
       "      <th>movie_id</th>\n",
       "      <th>title</th>\n",
       "      <th>overview</th>\n",
       "      <th>genres</th>\n",
       "      <th>keywords</th>\n",
       "      <th>cast</th>\n",
       "      <th>crew</th>\n",
       "    </tr>\n",
       "  </thead>\n",
       "  <tbody>\n",
       "    <tr>\n",
       "      <th>0</th>\n",
       "      <td>19995</td>\n",
       "      <td>Avatar</td>\n",
       "      <td>In the 22nd century, a paraplegic Marine is di...</td>\n",
       "      <td>[Action, Adventure, Fantasy, Science Fiction]</td>\n",
       "      <td>[culture clash, future, space war, space colon...</td>\n",
       "      <td>[Sam Worthington, Zoe Saldana, Sigourney Weaver]</td>\n",
       "      <td>[{\"credit_id\": \"52fe48009251416c750aca23\", \"de...</td>\n",
       "    </tr>\n",
       "    <tr>\n",
       "      <th>1</th>\n",
       "      <td>285</td>\n",
       "      <td>Pirates of the Caribbean: At World's End</td>\n",
       "      <td>Captain Barbossa, long believed to be dead, ha...</td>\n",
       "      <td>[Adventure, Fantasy, Action]</td>\n",
       "      <td>[ocean, drug abuse, exotic island, east india ...</td>\n",
       "      <td>[Johnny Depp, Orlando Bloom, Keira Knightley]</td>\n",
       "      <td>[{\"credit_id\": \"52fe4232c3a36847f800b579\", \"de...</td>\n",
       "    </tr>\n",
       "  </tbody>\n",
       "</table>\n",
       "</div>"
      ],
      "text/plain": [
       "   movie_id                                     title  \\\n",
       "0     19995                                    Avatar   \n",
       "1       285  Pirates of the Caribbean: At World's End   \n",
       "\n",
       "                                            overview  \\\n",
       "0  In the 22nd century, a paraplegic Marine is di...   \n",
       "1  Captain Barbossa, long believed to be dead, ha...   \n",
       "\n",
       "                                          genres  \\\n",
       "0  [Action, Adventure, Fantasy, Science Fiction]   \n",
       "1                   [Adventure, Fantasy, Action]   \n",
       "\n",
       "                                            keywords  \\\n",
       "0  [culture clash, future, space war, space colon...   \n",
       "1  [ocean, drug abuse, exotic island, east india ...   \n",
       "\n",
       "                                               cast  \\\n",
       "0  [Sam Worthington, Zoe Saldana, Sigourney Weaver]   \n",
       "1     [Johnny Depp, Orlando Bloom, Keira Knightley]   \n",
       "\n",
       "                                                crew  \n",
       "0  [{\"credit_id\": \"52fe48009251416c750aca23\", \"de...  \n",
       "1  [{\"credit_id\": \"52fe4232c3a36847f800b579\", \"de...  "
      ]
     },
     "execution_count": 25,
     "metadata": {},
     "output_type": "execute_result"
    }
   ],
   "source": [
    "def convert_actors(text):\n",
    "    actors = []\n",
    "    counter = 0\n",
    "    for i in ast.literal_eval(text):\n",
    "        if counter < 3:\n",
    "            actors.append(i['name'])\n",
    "        counter+=1\n",
    "    return actors \n",
    "\n",
    "movies['cast'] = movies['cast'].apply(convert_actors)\n",
    "movies.head(2)"
   ]
  },
  {
   "cell_type": "markdown",
   "id": "6d1fcfe8",
   "metadata": {
    "papermill": {
     "duration": 0.030622,
     "end_time": "2023-07-14T19:44:19.028321",
     "exception": false,
     "start_time": "2023-07-14T19:44:18.997699",
     "status": "completed"
    },
    "tags": []
   },
   "source": [
    "**crew column**"
   ]
  },
  {
   "cell_type": "code",
   "execution_count": 26,
   "id": "08164206",
   "metadata": {
    "execution": {
     "iopub.execute_input": "2023-07-14T19:44:19.075969Z",
     "iopub.status.busy": "2023-07-14T19:44:19.075485Z",
     "iopub.status.idle": "2023-07-14T19:44:24.088615Z",
     "shell.execute_reply": "2023-07-14T19:44:24.087453Z"
    },
    "papermill": {
     "duration": 5.040338,
     "end_time": "2023-07-14T19:44:24.091432",
     "exception": false,
     "start_time": "2023-07-14T19:44:19.051094",
     "status": "completed"
    },
    "tags": []
   },
   "outputs": [
    {
     "data": {
      "text/html": [
       "<div>\n",
       "<style scoped>\n",
       "    .dataframe tbody tr th:only-of-type {\n",
       "        vertical-align: middle;\n",
       "    }\n",
       "\n",
       "    .dataframe tbody tr th {\n",
       "        vertical-align: top;\n",
       "    }\n",
       "\n",
       "    .dataframe thead th {\n",
       "        text-align: right;\n",
       "    }\n",
       "</style>\n",
       "<table border=\"1\" class=\"dataframe\">\n",
       "  <thead>\n",
       "    <tr style=\"text-align: right;\">\n",
       "      <th></th>\n",
       "      <th>movie_id</th>\n",
       "      <th>title</th>\n",
       "      <th>overview</th>\n",
       "      <th>genres</th>\n",
       "      <th>keywords</th>\n",
       "      <th>cast</th>\n",
       "      <th>crew</th>\n",
       "    </tr>\n",
       "  </thead>\n",
       "  <tbody>\n",
       "    <tr>\n",
       "      <th>0</th>\n",
       "      <td>19995</td>\n",
       "      <td>Avatar</td>\n",
       "      <td>In the 22nd century, a paraplegic Marine is di...</td>\n",
       "      <td>[Action, Adventure, Fantasy, Science Fiction]</td>\n",
       "      <td>[culture clash, future, space war, space colon...</td>\n",
       "      <td>[Sam Worthington, Zoe Saldana, Sigourney Weaver]</td>\n",
       "      <td>[James Cameron]</td>\n",
       "    </tr>\n",
       "    <tr>\n",
       "      <th>1</th>\n",
       "      <td>285</td>\n",
       "      <td>Pirates of the Caribbean: At World's End</td>\n",
       "      <td>Captain Barbossa, long believed to be dead, ha...</td>\n",
       "      <td>[Adventure, Fantasy, Action]</td>\n",
       "      <td>[ocean, drug abuse, exotic island, east india ...</td>\n",
       "      <td>[Johnny Depp, Orlando Bloom, Keira Knightley]</td>\n",
       "      <td>[Gore Verbinski]</td>\n",
       "    </tr>\n",
       "  </tbody>\n",
       "</table>\n",
       "</div>"
      ],
      "text/plain": [
       "   movie_id                                     title  \\\n",
       "0     19995                                    Avatar   \n",
       "1       285  Pirates of the Caribbean: At World's End   \n",
       "\n",
       "                                            overview  \\\n",
       "0  In the 22nd century, a paraplegic Marine is di...   \n",
       "1  Captain Barbossa, long believed to be dead, ha...   \n",
       "\n",
       "                                          genres  \\\n",
       "0  [Action, Adventure, Fantasy, Science Fiction]   \n",
       "1                   [Adventure, Fantasy, Action]   \n",
       "\n",
       "                                            keywords  \\\n",
       "0  [culture clash, future, space war, space colon...   \n",
       "1  [ocean, drug abuse, exotic island, east india ...   \n",
       "\n",
       "                                               cast              crew  \n",
       "0  [Sam Worthington, Zoe Saldana, Sigourney Weaver]   [James Cameron]  \n",
       "1     [Johnny Depp, Orlando Bloom, Keira Knightley]  [Gore Verbinski]  "
      ]
     },
     "execution_count": 26,
     "metadata": {},
     "output_type": "execute_result"
    }
   ],
   "source": [
    "#from crew column we are interested in fetching only director's name\n",
    "def fetch_director(text):\n",
    "    director = []\n",
    "    for i in ast.literal_eval(text):\n",
    "        if i['job'] == 'Director':\n",
    "            director.append(i['name'])\n",
    "    return director \n",
    "\n",
    "movies['crew'] = movies['crew'].apply(fetch_director)\n",
    "movies.head(2)"
   ]
  },
  {
   "cell_type": "markdown",
   "id": "06e40734",
   "metadata": {
    "papermill": {
     "duration": 0.021923,
     "end_time": "2023-07-14T19:44:24.136010",
     "exception": false,
     "start_time": "2023-07-14T19:44:24.114087",
     "status": "completed"
    },
    "tags": []
   },
   "source": [
    "**overview column**"
   ]
  },
  {
   "cell_type": "code",
   "execution_count": 27,
   "id": "3e7edf62",
   "metadata": {
    "execution": {
     "iopub.execute_input": "2023-07-14T19:44:24.183558Z",
     "iopub.status.busy": "2023-07-14T19:44:24.182209Z",
     "iopub.status.idle": "2023-07-14T19:44:24.192340Z",
     "shell.execute_reply": "2023-07-14T19:44:24.191224Z"
    },
    "papermill": {
     "duration": 0.036455,
     "end_time": "2023-07-14T19:44:24.194637",
     "exception": false,
     "start_time": "2023-07-14T19:44:24.158182",
     "status": "completed"
    },
    "tags": []
   },
   "outputs": [
    {
     "data": {
      "text/plain": [
       "'In the 22nd century, a paraplegic Marine is dispatched to the moon Pandora on a unique mission, but becomes torn between following orders and protecting an alien civilization.'"
      ]
     },
     "execution_count": 27,
     "metadata": {},
     "output_type": "execute_result"
    }
   ],
   "source": [
    "movies['overview'][0]"
   ]
  },
  {
   "cell_type": "markdown",
   "id": "af30b41e",
   "metadata": {
    "papermill": {
     "duration": 0.02251,
     "end_time": "2023-07-14T19:44:24.240098",
     "exception": false,
     "start_time": "2023-07-14T19:44:24.217588",
     "status": "completed"
    },
    "tags": []
   },
   "source": [
    "tidak seperti semua kolom lain untuk tag, kami mengubah kolom ikhtisar menjadi string sehingga nantinya kami dapat menggabungkan semua kolom untuk tag"
   ]
  },
  {
   "cell_type": "code",
   "execution_count": 28,
   "id": "60913f10",
   "metadata": {
    "execution": {
     "iopub.execute_input": "2023-07-14T19:44:24.287568Z",
     "iopub.status.busy": "2023-07-14T19:44:24.286783Z",
     "iopub.status.idle": "2023-07-14T19:44:24.328136Z",
     "shell.execute_reply": "2023-07-14T19:44:24.326944Z"
    },
    "papermill": {
     "duration": 0.069197,
     "end_time": "2023-07-14T19:44:24.331957",
     "exception": false,
     "start_time": "2023-07-14T19:44:24.262760",
     "status": "completed"
    },
    "tags": []
   },
   "outputs": [],
   "source": [
    "#Need to convert overview column into list for concatenation as it is in string and list+string concatenation not possible\n",
    "movies['overview'] = movies['overview'].apply(lambda x:x.split())"
   ]
  },
  {
   "cell_type": "markdown",
   "id": "7c48908a",
   "metadata": {
    "papermill": {
     "duration": 0.02358,
     "end_time": "2023-07-14T19:44:24.379873",
     "exception": false,
     "start_time": "2023-07-14T19:44:24.356293",
     "status": "completed"
    },
    "tags": []
   },
   "source": [
    "**Entity Recognition**:\n",
    "Entity recognition melibatkan identifikasi dan pengkategorian entitas bernama tertentu, seperti nama orang atau lokasi, dalam teks. Dalam beberapa kasus, menghilangkan spasi atau mempertimbangkan entitas multi-kata sebagai satu kesatuan dapat menjadi penting. Misalnya, mengenali \"New York\" sebagai satu kesatuan daripada dua kata yang terpisah."
   ]
  },
  {
   "cell_type": "markdown",
   "id": "3ed2b96d",
   "metadata": {
    "papermill": {
     "duration": 0.02353,
     "end_time": "2023-07-14T19:44:24.426888",
     "exception": false,
     "start_time": "2023-07-14T19:44:24.403358",
     "status": "completed"
    },
    "tags": []
   },
   "source": [
    "Kita perlu menghapus spasi di antara kata-kata dari kolom genre, kata kunci, pemeran dan kru, untuk menyempurnakan tag kita"
   ]
  },
  {
   "cell_type": "code",
   "execution_count": 29,
   "id": "400be093",
   "metadata": {
    "execution": {
     "iopub.execute_input": "2023-07-14T19:44:24.476383Z",
     "iopub.status.busy": "2023-07-14T19:44:24.475660Z",
     "iopub.status.idle": "2023-07-14T19:44:24.691854Z",
     "shell.execute_reply": "2023-07-14T19:44:24.690832Z"
    },
    "papermill": {
     "duration": 0.244761,
     "end_time": "2023-07-14T19:44:24.695059",
     "exception": false,
     "start_time": "2023-07-14T19:44:24.450298",
     "status": "completed"
    },
    "tags": []
   },
   "outputs": [],
   "source": [
    "#Remove spaces between words in specific columns containing lists of words\n",
    "movies['cast'] = movies['cast'].apply(lambda x: [word.replace(\" \", \"\") for word in x])\n",
    "movies['crew'] = movies['crew'].apply(lambda x: [word.replace(\" \", \"\") for word in x])\n",
    "movies['genres'] = movies['genres'].apply(lambda x: [word.replace(\" \", \"\") for word in x])\n",
    "movies['keywords'] = movies['keywords'].apply(lambda x: [word.replace(\" \", \"\") for word in x])"
   ]
  },
  {
   "cell_type": "code",
   "execution_count": 30,
   "id": "fadf4698",
   "metadata": {
    "execution": {
     "iopub.execute_input": "2023-07-14T19:44:24.743259Z",
     "iopub.status.busy": "2023-07-14T19:44:24.742843Z",
     "iopub.status.idle": "2023-07-14T19:44:24.761863Z",
     "shell.execute_reply": "2023-07-14T19:44:24.760587Z"
    },
    "papermill": {
     "duration": 0.046297,
     "end_time": "2023-07-14T19:44:24.764879",
     "exception": false,
     "start_time": "2023-07-14T19:44:24.718582",
     "status": "completed"
    },
    "tags": []
   },
   "outputs": [
    {
     "data": {
      "text/html": [
       "<div>\n",
       "<style scoped>\n",
       "    .dataframe tbody tr th:only-of-type {\n",
       "        vertical-align: middle;\n",
       "    }\n",
       "\n",
       "    .dataframe tbody tr th {\n",
       "        vertical-align: top;\n",
       "    }\n",
       "\n",
       "    .dataframe thead th {\n",
       "        text-align: right;\n",
       "    }\n",
       "</style>\n",
       "<table border=\"1\" class=\"dataframe\">\n",
       "  <thead>\n",
       "    <tr style=\"text-align: right;\">\n",
       "      <th></th>\n",
       "      <th>movie_id</th>\n",
       "      <th>title</th>\n",
       "      <th>overview</th>\n",
       "      <th>genres</th>\n",
       "      <th>keywords</th>\n",
       "      <th>cast</th>\n",
       "      <th>crew</th>\n",
       "    </tr>\n",
       "  </thead>\n",
       "  <tbody>\n",
       "    <tr>\n",
       "      <th>0</th>\n",
       "      <td>19995</td>\n",
       "      <td>Avatar</td>\n",
       "      <td>[In, the, 22nd, century,, a, paraplegic, Marin...</td>\n",
       "      <td>[Action, Adventure, Fantasy, ScienceFiction]</td>\n",
       "      <td>[cultureclash, future, spacewar, spacecolony, ...</td>\n",
       "      <td>[SamWorthington, ZoeSaldana, SigourneyWeaver]</td>\n",
       "      <td>[JamesCameron]</td>\n",
       "    </tr>\n",
       "    <tr>\n",
       "      <th>1</th>\n",
       "      <td>285</td>\n",
       "      <td>Pirates of the Caribbean: At World's End</td>\n",
       "      <td>[Captain, Barbossa,, long, believed, to, be, d...</td>\n",
       "      <td>[Adventure, Fantasy, Action]</td>\n",
       "      <td>[ocean, drugabuse, exoticisland, eastindiatrad...</td>\n",
       "      <td>[JohnnyDepp, OrlandoBloom, KeiraKnightley]</td>\n",
       "      <td>[GoreVerbinski]</td>\n",
       "    </tr>\n",
       "  </tbody>\n",
       "</table>\n",
       "</div>"
      ],
      "text/plain": [
       "   movie_id                                     title  \\\n",
       "0     19995                                    Avatar   \n",
       "1       285  Pirates of the Caribbean: At World's End   \n",
       "\n",
       "                                            overview  \\\n",
       "0  [In, the, 22nd, century,, a, paraplegic, Marin...   \n",
       "1  [Captain, Barbossa,, long, believed, to, be, d...   \n",
       "\n",
       "                                         genres  \\\n",
       "0  [Action, Adventure, Fantasy, ScienceFiction]   \n",
       "1                  [Adventure, Fantasy, Action]   \n",
       "\n",
       "                                            keywords  \\\n",
       "0  [cultureclash, future, spacewar, spacecolony, ...   \n",
       "1  [ocean, drugabuse, exoticisland, eastindiatrad...   \n",
       "\n",
       "                                            cast             crew  \n",
       "0  [SamWorthington, ZoeSaldana, SigourneyWeaver]   [JamesCameron]  \n",
       "1     [JohnnyDepp, OrlandoBloom, KeiraKnightley]  [GoreVerbinski]  "
      ]
     },
     "execution_count": 30,
     "metadata": {},
     "output_type": "execute_result"
    }
   ],
   "source": [
    "movies.head(2)"
   ]
  },
  {
   "cell_type": "markdown",
   "id": "4bf2432a",
   "metadata": {
    "papermill": {
     "duration": 0.021779,
     "end_time": "2023-07-14T19:44:24.809017",
     "exception": false,
     "start_time": "2023-07-14T19:44:24.787238",
     "status": "completed"
    },
    "tags": []
   },
   "source": [
    "Karena kita telah menghapus spasi di antara kata-kata, sekarang kita menggabungkan kolom \"ikhtisar\", \"genre\", \"kata kunci\", \"pemeran\" dan \"kru\" untuk membentuk kolom tag kita"
   ]
  },
  {
   "cell_type": "code",
   "execution_count": 31,
   "id": "c6feaef2",
   "metadata": {
    "execution": {
     "iopub.execute_input": "2023-07-14T19:44:24.856770Z",
     "iopub.status.busy": "2023-07-14T19:44:24.855973Z",
     "iopub.status.idle": "2023-07-14T19:44:24.944012Z",
     "shell.execute_reply": "2023-07-14T19:44:24.943073Z"
    },
    "papermill": {
     "duration": 0.11512,
     "end_time": "2023-07-14T19:44:24.946603",
     "exception": false,
     "start_time": "2023-07-14T19:44:24.831483",
     "status": "completed"
    },
    "tags": []
   },
   "outputs": [],
   "source": [
    "#concatenating the columns for tags column\n",
    "movies['tags'] = movies['overview'] + movies['genres'] + movies['keywords'] + movies['cast'] + movies['crew']"
   ]
  },
  {
   "cell_type": "code",
   "execution_count": 32,
   "id": "85bca736",
   "metadata": {
    "execution": {
     "iopub.execute_input": "2023-07-14T19:44:24.996515Z",
     "iopub.status.busy": "2023-07-14T19:44:24.995655Z",
     "iopub.status.idle": "2023-07-14T19:44:25.002930Z",
     "shell.execute_reply": "2023-07-14T19:44:25.001790Z"
    },
    "papermill": {
     "duration": 0.039252,
     "end_time": "2023-07-14T19:44:25.009106",
     "exception": false,
     "start_time": "2023-07-14T19:44:24.969854",
     "status": "completed"
    },
    "tags": []
   },
   "outputs": [],
   "source": [
    "# we have utilised the text from 'overview','genres','keywords','cast','crew' columns and transformed that text to \"tags\" column,so we are dropping those five columns now\n",
    "movies = movies.drop(columns=['overview','genres','keywords','cast','crew'])"
   ]
  },
  {
   "cell_type": "code",
   "execution_count": 33,
   "id": "c0347ab4",
   "metadata": {
    "execution": {
     "iopub.execute_input": "2023-07-14T19:44:25.057151Z",
     "iopub.status.busy": "2023-07-14T19:44:25.056296Z",
     "iopub.status.idle": "2023-07-14T19:44:25.069766Z",
     "shell.execute_reply": "2023-07-14T19:44:25.068426Z"
    },
    "papermill": {
     "duration": 0.039889,
     "end_time": "2023-07-14T19:44:25.072220",
     "exception": false,
     "start_time": "2023-07-14T19:44:25.032331",
     "status": "completed"
    },
    "tags": []
   },
   "outputs": [
    {
     "data": {
      "text/html": [
       "<div>\n",
       "<style scoped>\n",
       "    .dataframe tbody tr th:only-of-type {\n",
       "        vertical-align: middle;\n",
       "    }\n",
       "\n",
       "    .dataframe tbody tr th {\n",
       "        vertical-align: top;\n",
       "    }\n",
       "\n",
       "    .dataframe thead th {\n",
       "        text-align: right;\n",
       "    }\n",
       "</style>\n",
       "<table border=\"1\" class=\"dataframe\">\n",
       "  <thead>\n",
       "    <tr style=\"text-align: right;\">\n",
       "      <th></th>\n",
       "      <th>movie_id</th>\n",
       "      <th>title</th>\n",
       "      <th>tags</th>\n",
       "    </tr>\n",
       "  </thead>\n",
       "  <tbody>\n",
       "    <tr>\n",
       "      <th>0</th>\n",
       "      <td>19995</td>\n",
       "      <td>Avatar</td>\n",
       "      <td>[In, the, 22nd, century,, a, paraplegic, Marin...</td>\n",
       "    </tr>\n",
       "    <tr>\n",
       "      <th>1</th>\n",
       "      <td>285</td>\n",
       "      <td>Pirates of the Caribbean: At World's End</td>\n",
       "      <td>[Captain, Barbossa,, long, believed, to, be, d...</td>\n",
       "    </tr>\n",
       "  </tbody>\n",
       "</table>\n",
       "</div>"
      ],
      "text/plain": [
       "   movie_id                                     title  \\\n",
       "0     19995                                    Avatar   \n",
       "1       285  Pirates of the Caribbean: At World's End   \n",
       "\n",
       "                                                tags  \n",
       "0  [In, the, 22nd, century,, a, paraplegic, Marin...  \n",
       "1  [Captain, Barbossa,, long, believed, to, be, d...  "
      ]
     },
     "execution_count": 33,
     "metadata": {},
     "output_type": "execute_result"
    }
   ],
   "source": [
    "movies.head(2)"
   ]
  },
  {
   "cell_type": "markdown",
   "id": "acb80391",
   "metadata": {
    "papermill": {
     "duration": 0.022154,
     "end_time": "2023-07-14T19:44:25.116922",
     "exception": false,
     "start_time": "2023-07-14T19:44:25.094768",
     "status": "completed"
    },
    "tags": []
   },
   "source": [
    "Kolom \"tags\" terdiri dari kata-kata dalam daftar yang perlu diubah menjadi string untuk melakukan vektorisasi"
   ]
  },
  {
   "cell_type": "code",
   "execution_count": 34,
   "id": "79e93b7e",
   "metadata": {
    "execution": {
     "iopub.execute_input": "2023-07-14T19:44:25.164673Z",
     "iopub.status.busy": "2023-07-14T19:44:25.163569Z",
     "iopub.status.idle": "2023-07-14T19:44:25.195908Z",
     "shell.execute_reply": "2023-07-14T19:44:25.194770Z"
    },
    "papermill": {
     "duration": 0.058827,
     "end_time": "2023-07-14T19:44:25.198384",
     "exception": false,
     "start_time": "2023-07-14T19:44:25.139557",
     "status": "completed"
    },
    "tags": []
   },
   "outputs": [
    {
     "data": {
      "text/html": [
       "<div>\n",
       "<style scoped>\n",
       "    .dataframe tbody tr th:only-of-type {\n",
       "        vertical-align: middle;\n",
       "    }\n",
       "\n",
       "    .dataframe tbody tr th {\n",
       "        vertical-align: top;\n",
       "    }\n",
       "\n",
       "    .dataframe thead th {\n",
       "        text-align: right;\n",
       "    }\n",
       "</style>\n",
       "<table border=\"1\" class=\"dataframe\">\n",
       "  <thead>\n",
       "    <tr style=\"text-align: right;\">\n",
       "      <th></th>\n",
       "      <th>movie_id</th>\n",
       "      <th>title</th>\n",
       "      <th>tags</th>\n",
       "    </tr>\n",
       "  </thead>\n",
       "  <tbody>\n",
       "    <tr>\n",
       "      <th>0</th>\n",
       "      <td>19995</td>\n",
       "      <td>Avatar</td>\n",
       "      <td>In the 22nd century, a paraplegic Marine is di...</td>\n",
       "    </tr>\n",
       "    <tr>\n",
       "      <th>1</th>\n",
       "      <td>285</td>\n",
       "      <td>Pirates of the Caribbean: At World's End</td>\n",
       "      <td>Captain Barbossa, long believed to be dead, ha...</td>\n",
       "    </tr>\n",
       "    <tr>\n",
       "      <th>2</th>\n",
       "      <td>206647</td>\n",
       "      <td>Spectre</td>\n",
       "      <td>A cryptic message from Bond’s past sends him o...</td>\n",
       "    </tr>\n",
       "    <tr>\n",
       "      <th>3</th>\n",
       "      <td>49026</td>\n",
       "      <td>The Dark Knight Rises</td>\n",
       "      <td>Following the death of District Attorney Harve...</td>\n",
       "    </tr>\n",
       "    <tr>\n",
       "      <th>4</th>\n",
       "      <td>49529</td>\n",
       "      <td>John Carter</td>\n",
       "      <td>John Carter is a war-weary, former military ca...</td>\n",
       "    </tr>\n",
       "  </tbody>\n",
       "</table>\n",
       "</div>"
      ],
      "text/plain": [
       "   movie_id                                     title  \\\n",
       "0     19995                                    Avatar   \n",
       "1       285  Pirates of the Caribbean: At World's End   \n",
       "2    206647                                   Spectre   \n",
       "3     49026                     The Dark Knight Rises   \n",
       "4     49529                               John Carter   \n",
       "\n",
       "                                                tags  \n",
       "0  In the 22nd century, a paraplegic Marine is di...  \n",
       "1  Captain Barbossa, long believed to be dead, ha...  \n",
       "2  A cryptic message from Bond’s past sends him o...  \n",
       "3  Following the death of District Attorney Harve...  \n",
       "4  John Carter is a war-weary, former military ca...  "
      ]
     },
     "execution_count": 34,
     "metadata": {},
     "output_type": "execute_result"
    }
   ],
   "source": [
    "# Joining words in the 'tags' column into a single string\n",
    "movies['tags'] = movies['tags'].apply(lambda x: \" \".join(x))\n",
    "movies.head()"
   ]
  },
  {
   "cell_type": "markdown",
   "id": "0ff09e03",
   "metadata": {
    "papermill": {
     "duration": 0.022335,
     "end_time": "2023-07-14T19:44:25.333953",
     "exception": false,
     "start_time": "2023-07-14T19:44:25.311618",
     "status": "completed"
    },
    "tags": []
   },
   "source": [
    "# Bag of words"
   ]
  },
  {
   "cell_type": "markdown",
   "id": "e225bce5",
   "metadata": {
    "execution": {
     "iopub.execute_input": "2023-06-26T17:29:46.319205Z",
     "iopub.status.busy": "2023-06-26T17:29:46.318667Z",
     "iopub.status.idle": "2023-06-26T17:29:46.328755Z",
     "shell.execute_reply": "2023-06-26T17:29:46.326329Z",
     "shell.execute_reply.started": "2023-06-26T17:29:46.319174Z"
    },
    "papermill": {
     "duration": 0.022687,
     "end_time": "2023-07-14T19:44:25.379232",
     "exception": false,
     "start_time": "2023-07-14T19:44:25.356545",
     "status": "completed"
    },
    "tags": []
   },
   "source": [
    "vektorisasi BoW adalah teknik yang digunakan untuk merepresentasikan dokumen teks dengan menghitung kemunculan kata. Teknik ini menyederhanakan teks menjadi vektor numerik, sehingga kita dapat membandingkan, menganalisis, dan memahami pentingnya kata-kata di berbagai dokumen."
   ]
  },
  {
   "cell_type": "code",
   "execution_count": 35,
   "id": "70ea627e",
   "metadata": {
    "execution": {
     "iopub.execute_input": "2023-07-14T19:44:25.427039Z",
     "iopub.status.busy": "2023-07-14T19:44:25.426353Z",
     "iopub.status.idle": "2023-07-14T19:44:26.791225Z",
     "shell.execute_reply": "2023-07-14T19:44:26.789859Z"
    },
    "papermill": {
     "duration": 1.392181,
     "end_time": "2023-07-14T19:44:26.794525",
     "exception": false,
     "start_time": "2023-07-14T19:44:25.402344",
     "status": "completed"
    },
    "tags": []
   },
   "outputs": [],
   "source": [
    "#we are taking most frequent 5000 words from the vocabulary,also we are removing all the stopwords \n",
    "from sklearn.feature_extraction.text import CountVectorizer\n",
    "cv = CountVectorizer(max_features=5000,stop_words='english')\n",
    "    "
   ]
  },
  {
   "cell_type": "code",
   "execution_count": 36,
   "id": "7d613faf",
   "metadata": {
    "execution": {
     "iopub.execute_input": "2023-07-14T19:44:26.845223Z",
     "iopub.status.busy": "2023-07-14T19:44:26.844772Z",
     "iopub.status.idle": "2023-07-14T19:44:27.650026Z",
     "shell.execute_reply": "2023-07-14T19:44:27.648529Z"
    },
    "papermill": {
     "duration": 0.834363,
     "end_time": "2023-07-14T19:44:27.653412",
     "exception": false,
     "start_time": "2023-07-14T19:44:26.819049",
     "status": "completed"
    },
    "tags": []
   },
   "outputs": [],
   "source": [
    "# convert textual movie tags into a numerical representation\n",
    "vector = cv.fit_transform(movies['tags']).toarray()"
   ]
  },
  {
   "cell_type": "markdown",
   "id": "96323448",
   "metadata": {
    "papermill": {
     "duration": 0.024521,
     "end_time": "2023-07-14T19:44:27.702778",
     "exception": false,
     "start_time": "2023-07-14T19:44:27.678257",
     "status": "completed"
    },
    "tags": []
   },
   "source": [
    "kode di atas membuat representasi numerik dari tag film, yang dapat digunakan untuk menghitung kemiripan antar film."
   ]
  },
  {
   "cell_type": "code",
   "execution_count": 37,
   "id": "88330f09",
   "metadata": {
    "execution": {
     "iopub.execute_input": "2023-07-14T19:44:27.754264Z",
     "iopub.status.busy": "2023-07-14T19:44:27.753815Z",
     "iopub.status.idle": "2023-07-14T19:44:27.761977Z",
     "shell.execute_reply": "2023-07-14T19:44:27.760551Z"
    },
    "papermill": {
     "duration": 0.036902,
     "end_time": "2023-07-14T19:44:27.764621",
     "exception": false,
     "start_time": "2023-07-14T19:44:27.727719",
     "status": "completed"
    },
    "tags": []
   },
   "outputs": [
    {
     "data": {
      "text/plain": [
       "(4806, 5000)"
      ]
     },
     "execution_count": 37,
     "metadata": {},
     "output_type": "execute_result"
    }
   ],
   "source": [
    "vector.shape"
   ]
  },
  {
   "cell_type": "markdown",
   "id": "8aa351b6",
   "metadata": {
    "papermill": {
     "duration": 0.024265,
     "end_time": "2023-07-14T19:44:27.813982",
     "exception": false,
     "start_time": "2023-07-14T19:44:27.789717",
     "status": "completed"
    },
    "tags": []
   },
   "source": [
    "Kami memiliki total 4806 film dan setiap film telah direpresentasikan menggunakan sekumpulan tag, setelah mengubah tag ini menjadi vektor numerik, representasi vektor yang dihasilkan memiliki ukuran `(4806, 5000)`.\n",
    "\n",
    "Angka pertama, 4806, menunjukkan jumlah film dalam kumpulan data. Ini berarti bahwa ada 4806 baris dalam representasi vektor, dengan setiap baris berhubungan dengan film tertentu.\n",
    "\n",
    "Angka kedua, 5000, menunjukkan jumlah tag unik yang ditemukan di seluruh dataset. Ini berarti bahwa setiap film telah direpresentasikan sebagai vektor yang terdiri dari 5000 angka. Setiap angka dalam vektor berhubungan dengan tag tertentu, dan nilainya mewakili ada atau tidaknya tag tersebut untuk film yang bersangkutan.\n",
    "\n",
    "(4806, 5000) memberi tahu kita bahwa representasi vektor memiliki 4806 baris (satu untuk setiap film) dan 5000 kolom (mewakili ada atau tidaknya 5000 tag unik dalam film)."
   ]
  },
  {
   "cell_type": "markdown",
   "id": "08d45bef",
   "metadata": {
    "papermill": {
     "duration": 0.024063,
     "end_time": "2023-07-14T19:44:27.862440",
     "exception": false,
     "start_time": "2023-07-14T19:44:27.838377",
     "status": "completed"
    },
    "tags": []
   },
   "source": [
    "# Cosine similarity"
   ]
  },
  {
   "cell_type": "markdown",
   "id": "0d71b6c8",
   "metadata": {
    "papermill": {
     "duration": 0.024197,
     "end_time": "2023-07-14T19:44:27.910326",
     "exception": false,
     "start_time": "2023-07-14T19:44:27.886129",
     "status": "completed"
    },
    "tags": []
   },
   "source": [
    "Cosine similarity adalah ukuran yang digunakan untuk menentukan seberapa mirip dua vektor dalam ruang multi-dimensi. Dalam konteks NLP (Pemrosesan Bahasa Alami), kemiripan kosinus sering digunakan untuk membandingkan kemiripan antara dua dokumen atau kumpulan kata.\n",
    "1. Bayangkan Anda memiliki dua vektor yang mewakili dua dokumen. Setiap vektor mewakili frekuensi kata atau istilah dalam masing-masing dokumen.\n",
    "\n",
    "2. Kemiripan kosinus menghitung sudut antara kedua vektor ini. Semakin kecil sudutnya, semakin mirip vektor-vektor tersebut (dan dengan demikian, dokumen-dokumen tersebut) dianggap semakin mirip.\n",
    "\n",
    "3. Jika sudut antara vektor mendekati 0 derajat, itu berarti vektor mengarah ke arah yang sama dan memiliki tingkat kemiripan yang tinggi. Sebaliknya, jika sudutnya mendekati 90 derajat, berarti vektor-vektor tersebut tegak lurus dan memiliki kemiripan yang rendah.\n",
    "\n",
    "4. Skor kemiripan kosinus adalah nilai antara 0 dan 1. Skor 1 menunjukkan bahwa vektor-vektor tersebut identik, sedangkan skor 0 berarti vektor-vektor tersebut sama sekali berbeda.\n",
    "\n",
    "Dalam istilah yang lebih sederhana, kesamaan kosinus mengukur seberapa dekat dua vektor sejajar satu sama lain. Semakin mirip vektornya, semakin kecil sudut di antara keduanya, dan semakin tinggi skor kemiripan kosinusnya. Ini membantu kita memahami kemiripan atau keterkaitan antara dokumen atau kumpulan kata berdasarkan representasi vektornya.\n",
    "\n",
    "Cosine similarity banyak digunakan dalam tugas-tugas NLP seperti pengelompokan dokumen, pencarian informasi, atau sistem rekomendasi. Dengan membandingkan sudut antara vektor, kita dapat mengidentifikasi dokumen yang mirip, menemukan kata-kata yang terkait, atau bahkan merekomendasikan artikel atau produk yang mirip berdasarkan konten tekstualnya."
   ]
  },
  {
   "cell_type": "code",
   "execution_count": 38,
   "id": "bcb59010",
   "metadata": {
    "execution": {
     "iopub.execute_input": "2023-07-14T19:44:27.960784Z",
     "iopub.status.busy": "2023-07-14T19:44:27.960328Z",
     "iopub.status.idle": "2023-07-14T19:44:28.074739Z",
     "shell.execute_reply": "2023-07-14T19:44:28.073565Z"
    },
    "papermill": {
     "duration": 0.142935,
     "end_time": "2023-07-14T19:44:28.077873",
     "exception": false,
     "start_time": "2023-07-14T19:44:27.934938",
     "status": "completed"
    },
    "tags": []
   },
   "outputs": [],
   "source": [
    "from sklearn.metrics.pairwise import cosine_similarity"
   ]
  },
  {
   "cell_type": "code",
   "execution_count": 39,
   "id": "87b9afaa",
   "metadata": {
    "execution": {
     "iopub.execute_input": "2023-07-14T19:44:28.127057Z",
     "iopub.status.busy": "2023-07-14T19:44:28.126663Z",
     "iopub.status.idle": "2023-07-14T19:44:30.432456Z",
     "shell.execute_reply": "2023-07-14T19:44:30.430954Z"
    },
    "papermill": {
     "duration": 2.335247,
     "end_time": "2023-07-14T19:44:30.437158",
     "exception": false,
     "start_time": "2023-07-14T19:44:28.101911",
     "status": "completed"
    },
    "tags": []
   },
   "outputs": [],
   "source": [
    "# Menghitung kemiripan antara vektor menggunakan metode yang disebut kemiripan kosinus.\n",
    "#Secara lebih sederhana, ia mengambil sebuah vektor (representasi matematis dari film) dan membandingkannya dengan vektor lain yang mewakili film yang berbeda.\n",
    "#Metode ini menghitung seberapa mirip vektor-vektor ini dengan mengukur cosinus sudut di antara keduanya. \n",
    "#Nilai kemiripan yang dihasilkan menunjukkan seberapa dekat hubungan antara film berdasarkan representasi vektornya.\n",
    "#Pada dasarnya, ini membantu untuk menentukan seberapa mirip dua film dengan melihat representasi numerik mereka dan menghitung skor kemiripan.\n",
    "\n",
    "similarity = cosine_similarity(vector)"
   ]
  },
  {
   "cell_type": "code",
   "execution_count": 40,
   "id": "677a8894",
   "metadata": {
    "execution": {
     "iopub.execute_input": "2023-07-14T19:44:30.486274Z",
     "iopub.status.busy": "2023-07-14T19:44:30.485831Z",
     "iopub.status.idle": "2023-07-14T19:44:30.494966Z",
     "shell.execute_reply": "2023-07-14T19:44:30.493683Z"
    },
    "papermill": {
     "duration": 0.036671,
     "end_time": "2023-07-14T19:44:30.497528",
     "exception": false,
     "start_time": "2023-07-14T19:44:30.460857",
     "status": "completed"
    },
    "tags": []
   },
   "outputs": [
    {
     "data": {
      "text/plain": [
       "array([[1.        , 0.08964215, 0.06071767, ..., 0.02519763, 0.0277885 ,\n",
       "        0.        ],\n",
       "       [0.08964215, 1.        , 0.06350006, ..., 0.02635231, 0.        ,\n",
       "        0.        ],\n",
       "       [0.06071767, 0.06350006, 1.        , ..., 0.02677398, 0.        ,\n",
       "        0.        ],\n",
       "       ...,\n",
       "       [0.02519763, 0.02635231, 0.02677398, ..., 1.        , 0.07352146,\n",
       "        0.04774099],\n",
       "       [0.0277885 , 0.        , 0.        , ..., 0.07352146, 1.        ,\n",
       "        0.05264981],\n",
       "       [0.        , 0.        , 0.        , ..., 0.04774099, 0.05264981,\n",
       "        1.        ]])"
      ]
     },
     "execution_count": 40,
     "metadata": {},
     "output_type": "execute_result"
    }
   ],
   "source": [
    "similarity"
   ]
  },
  {
   "cell_type": "markdown",
   "id": "fd098de9",
   "metadata": {
    "papermill": {
     "duration": 0.022593,
     "end_time": "2023-07-14T19:44:30.543017",
     "exception": false,
     "start_time": "2023-07-14T19:44:30.520424",
     "status": "completed"
    },
    "tags": []
   },
   "source": [
    "Output di atas adalah matriks angka yang merepresentasikan kemiripan antara film yang berbeda. Setiap angka dalam matriks mewakili skor kemiripan antara dua film.\n",
    "\n",
    "Dalam istilah yang lebih sederhana, bayangkan Anda memiliki kisi-kisi di mana baris dan kolom mewakili film yang berbeda. Setiap angka dalam kisi-kisi menunjukkan seberapa mirip dua film satu sama lain. Semakin tinggi angkanya, semakin mirip kedua film tersebut.\n",
    "\n",
    "Sebagai contoh, jika Anda melihat baris pertama dari matriks, angka-angka tersebut menunjukkan kemiripan antara film pertama dan semua film lainnya. Angka 1.0 berarti film pertama identik dengan dirinya sendiri (kemiripan sempurna), sedangkan angka lain seperti 0.08964215, 0.06071767, dan seterusnya menunjukkan kemiripan antara film pertama dengan film lain dalam kumpulan data.\n",
    "\n",
    "Demikian pula, setiap baris dan kolom dalam matriks berhubungan dengan film tertentu, dan angka-angka dalam baris atau kolom tersebut menunjukkan kemiripan antara film tersebut dan semua film lainnya."
   ]
  },
  {
   "cell_type": "markdown",
   "id": "f2cd07a3",
   "metadata": {
    "papermill": {
     "duration": 0.022585,
     "end_time": "2023-07-14T19:44:30.589012",
     "exception": false,
     "start_time": "2023-07-14T19:44:30.566427",
     "status": "completed"
    },
    "tags": []
   },
   "source": [
    "Sekarang, Mari kita tentukan fungsi yang mengambil nama film sebagai input dan merekomendasikan film yang mirip dengan nama film yang dimasukkan"
   ]
  },
  {
   "cell_type": "code",
   "execution_count": 41,
   "metadata": {},
   "outputs": [
    {
     "data": {
      "image/png": "[encoded data removed]",
      "text/plain": [
       "<Figure size 1000x600 with 1 Axes>"
      ]
     },
     "metadata": {},
     "output_type": "display_data"
    }
   ],
   "source": [
    "import matplotlib.pyplot as plt\n",
    "\n",
    "#fungsi merekomendasikan yang mengambil nama film sebagai masukan. \n",
    "#Kemudian menghitung kemiripan antara film yang diberikan dan semua film lain dalam kumpulan data.\n",
    "#Jarak antara film diurutkan dalam urutan menurun, dan 5 film yang paling mirip (tidak termasuk film yang diberikan itu sendiri) dicetak.\n",
    "def recommend(movie):\n",
    "    index = movies[movies['title'] == movie].index[0]\n",
    "    distances = sorted(list(enumerate(similarity[index])), reverse=True, key=lambda x: x[1])\n",
    "    \n",
    "    # Extract movie titles and similarity scores for the top 5 recommendations\n",
    "    recommended_movies = [movies.iloc[i[0]].title for i in distances[1:6]]\n",
    "    similarity_scores = [i[1] for i in distances[1:6]]\n",
    "    \n",
    "    # Plotting the results\n",
    "    plt.figure(figsize=(10, 6))\n",
    "    plt.barh(recommended_movies, similarity_scores, color='skyblue')\n",
    "    plt.xlabel('Similarity Score')\n",
    "    plt.title(f'Recommended Movies for {movie}')\n",
    "    plt.gca().invert_yaxis()  # Invert the y-axis for better visualization\n",
    "    plt.show()\n",
    "\n",
    "# Get the recommendation for 'John Carter' and plot the results\n",
    "recommend('John Carter')"
   ]
  },
  {
   "cell_type": "markdown",
   "id": "428aab7b",
   "metadata": {
    "execution": {
     "iopub.execute_input": "2023-06-27T15:52:44.890925Z",
     "iopub.status.busy": "2023-06-27T15:52:44.890613Z",
     "iopub.status.idle": "2023-06-27T15:52:44.895057Z",
     "shell.execute_reply": "2023-06-27T15:52:44.894163Z",
     "shell.execute_reply.started": "2023-06-27T15:52:44.890900Z"
    },
    "papermill": {
     "duration": 0.023785,
     "end_time": "2023-07-14T19:44:30.760079",
     "exception": false,
     "start_time": "2023-07-14T19:44:30.736294",
     "status": "completed"
    },
    "tags": []
   },
   "source": [
    "# Conclusion"
   ]
  },
  {
   "cell_type": "markdown",
   "id": "073510fb",
   "metadata": {
    "papermill": {
     "duration": 0.022771,
     "end_time": "2023-07-14T19:44:30.806110",
     "exception": false,
     "start_time": "2023-07-14T19:44:30.783339",
     "status": "completed"
    },
    "tags": []
   },
   "source": [
    "\n",
    "Kami mengembangkan sistem rekomendasi film berdasarkan tag film menggunakan dataset Kaggle. Tujuannya adalah untuk memberikan rekomendasi film yang mirip dengan film tertentu.\n",
    "\n",
    "Kami memulai dengan beberapa pemrosesan awal dan menyiapkan kolom **tags**, membuat vektor tag film menggunakan **CountVectorizer** dari pustaka scikit-learn. Hal ini memungkinkan kami untuk merepresentasikan tag tekstual sebagai vektor numerik. Selanjutnya, kami menghitung **kemiripan kosinus** antara vektor-vektor ini menggunakan fungsi cosine_similarity yang juga disediakan oleh scikit-learn.\n",
    "\n",
    "Dengan menggunakan skor kemiripan kosinus, kami dapat menemukan film yang paling mirip dengan film yang diberikan. Sebagai contoh, ketika kami memasukkan 'John Carter' sebagai film, sistem menghasilkan rekomendasi berikut:\n",
    "\n",
    "Star Trek: Insurrection<br>\n",
    "Mission to Mars<br>\n",
    "Captain America: The First Avenger<br>\n",
    "Escape from Planet Earth<br>\n",
    "Ghosts of Mars<br>\n",
    "\n",
    "Rekomendasi ini didasarkan pada kemiripan tag film, yang menunjukkan bahwa film-film ini memiliki tema atau genre yang serupa.\n",
    "\n"
   ]
  }
 ],
 "metadata": {
  "kernelspec": {
   "display_name": "Python 3",
   "language": "python",
   "name": "python3"
  },
  "language_info": {
   "codemirror_mode": {
    "name": "ipython",
    "version": 3
   },
   "file_extension": ".py",
   "mimetype": "text/x-python",
   "name": "python",
   "nbconvert_exporter": "python",
   "pygments_lexer": "ipython3",
   "version": "3.9.15"
  },
  "papermill": {
   "default_parameters": {},
   "duration": 36.450567,
   "end_time": "2023-07-14T19:44:32.451874",
   "environment_variables": {},
   "exception": null,
   "input_path": "__notebook__.ipynb",
   "output_path": "__notebook__.ipynb",
   "parameters": {},
   "start_time": "2023-07-14T19:43:56.001307",
   "version": "2.4.0"
  }
 },
 "nbformat": 4,
 "nbformat_minor": 5
}
